{
  "nbformat": 4,
  "nbformat_minor": 0,
  "metadata": {
    "colab": {
      "provenance": [],
      "authorship_tag": "ABX9TyNp4K4TrRBQ+JAaekfVodDj",
      "include_colab_link": true
    },
    "kernelspec": {
      "name": "python3",
      "display_name": "Python 3"
    },
    "language_info": {
      "name": "python"
    }
  },
  "cells": [
    {
      "cell_type": "markdown",
      "metadata": {
        "id": "view-in-github",
        "colab_type": "text"
      },
      "source": [
        "<a href=\"https://colab.research.google.com/github/jeurginocode/examenesprogramacion/blob/main/actividad_3_000543600.ipynb\" target=\"_parent\"><img src=\"https://colab.research.google.com/assets/colab-badge.svg\" alt=\"Open In Colab\"/></a>"
      ]
    },
    {
      "cell_type": "markdown",
      "source": [
        "#  Parcial 3\n",
        "\n",
        "**Fecha:**_22 de marzo de 2024_\n",
        "\n",
        "**Presentado por:**_Jorge Enrique Arnedo Arteaga _\n",
        "\n",
        "**Email:**jorge.arnedo@upb.edu.co"
      ],
      "metadata": {
        "id": "blLlwfpoMajm"
      }
    },
    {
      "cell_type": "code",
      "source": [
        "import numpy as np\n",
        "\n",
        "mu = 1000\n",
        "sigma = 300\n",
        "probabilidad_accumuladad = 0\n",
        "\n",
        "\n",
        "frecuencia = float(input(\"Enter the frequency of the signal: \"))\n",
        "\n",
        "\n",
        "for x in range(int(frecuencia) + 1):\n",
        "    # calcular fdp para la probalidad\n",
        "    probabilidad = 1 / (sigma * np.sqrt(2 * np.pi)) * np.exp(-0.5 * ((x - mu) / sigma)**2)\n",
        "    probabilidad_accumuladad += probabilidad\n",
        "    print(probabilidad)\n",
        "\n",
        "# comprobar si la probalidad acumuladad es mayor al 30%\n",
        "if frecuencia < 0:\n",
        "  print(\"numeros negativos no son permitidos\")\n",
        "if frecuencia==0:\n",
        "  print(\"Inserte valor mayor ha cero\")\n",
        "\n",
        "if probabilidad_accumuladad > 0.30:\n",
        "    print(f\"la señal {frecuencia} hz pasa el filtro.\")\n",
        "else:\n",
        "    print(f\"la señal {frecuencia} hz es bloqueada por el filtro.\")\n"
      ],
      "metadata": {
        "colab": {
          "base_uri": "https://localhost:8080/"
        },
        "id": "iRAi5YHzUQ1y",
        "outputId": "d416ba81-e2c8-49b2-92e6-235487fb1a6a"
      },
      "execution_count": 60,
      "outputs": [
        {
          "output_type": "stream",
          "name": "stdout",
          "text": [
            "Enter the frequency of the signal: 1\n",
            "5.140929987637018e-06\n",
            "5.198341072158972e-06\n",
            "la señal 1.0 hz es bloqueada por el filtro.\n"
          ]
        }
      ]
    },
    {
      "cell_type": "code",
      "execution_count": 56,
      "metadata": {
        "colab": {
          "base_uri": "https://localhost:8080/"
        },
        "id": "CRn0PM2UMN5b",
        "outputId": "683c9aa0-a317-4363-8385-1ee4b13a24c0"
      },
      "outputs": [
        {
          "output_type": "stream",
          "name": "stdout",
          "text": [
            "Enter the frequency of the signal: 1\n",
            "5.198341072158972e-06\n",
            "5.198341072158972e-06\n"
          ]
        }
      ],
      "source": [
        "\n",
        "\n"
      ]
    }
  ]
}